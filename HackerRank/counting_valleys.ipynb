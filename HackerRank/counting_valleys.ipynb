{
  "nbformat": 4,
  "nbformat_minor": 0,
  "metadata": {
    "colab": {
      "name": "counting_valleys.ipynb",
      "provenance": [],
      "collapsed_sections": [],
      "authorship_tag": "ABX9TyMgoPihsqyTSeUo8+W0MyzY"
    },
    "kernelspec": {
      "name": "python3",
      "display_name": "Python 3"
    }
  },
  "cells": [
    {
      "cell_type": "markdown",
      "metadata": {
        "id": "_3Nm_Y8UB8wv",
        "colab_type": "text"
      },
      "source": [
        "## **Counting Valleys** - HackerRank\n",
        "\n",
        "Gary is an avid hiker. He tracks his hikes meticulously, paying close attention to small details like topography. During his last hike he took exactly $n$ steps. For every step he took, he noted if it was an uphill, $U$, or a downhill, $D$ step. Gary's hikes start and end at sea level and each step up or down represents a $1$ unit change in altitude. We define the following terms:\n",
        "\n",
        "* A mountain is a sequence of consecutive steps above sea level, starting with a step up from sea level and ending with a step down to sea level.\n",
        "* A valley is a sequence of consecutive steps below sea level, starting with a step down from sea level and ending with a step up to sea level.\n",
        "Given Gary's sequence of up and down steps during his last hike, find and print the number of valleys he walked through.\n",
        "\n",
        "For example, if Gary's path is $s = [DDUUUUDD]$, he first enters a valley $2$ units deep. Then he climbs out an up onto a mountain  units high. Finally, he returns to sea level and ends his hike.\n",
        "\n",
        "**Function Description**\n",
        "\n",
        "Complete the countingValleys function in the editor below. It must return an integer that denotes the number of valleys Gary traversed.\n",
        "\n",
        "countingValleys has the following parameter(s):\n",
        "\n",
        "* n: the number of steps Gary takes\n",
        "* s: a string describing his path\n",
        "\n",
        "**Input Format**\n",
        "\n",
        "The first line contains an integer $n$, the number of steps in Gary's hike.\n",
        "The second line contains a single string $s$, of $n$ characters that describe his path.\n",
        "\n",
        "**Constraints**\n",
        "* $2 \\leq n \\leq 10^6$\n",
        "* $s[i] \\in {UD}$\n",
        "\n",
        "**Output Format**\n",
        "\n",
        "Print a single integer that denotes the number of valleys Gary walked through during his hike.\n",
        "\n",
        "**Sample Input**"
      ]
    },
    {
      "cell_type": "markdown",
      "metadata": {
        "id": "ArJvMF9nFGmO",
        "colab_type": "text"
      },
      "source": [
        "```\n",
        "8\n",
        "UDDDUDUU\n",
        "```"
      ]
    },
    {
      "cell_type": "markdown",
      "metadata": {
        "id": "yYZe0jQTFgfT",
        "colab_type": "text"
      },
      "source": [
        "**Sample Output**"
      ]
    },
    {
      "cell_type": "markdown",
      "metadata": {
        "id": "T1If6GxvFmqX",
        "colab_type": "text"
      },
      "source": [
        "```\n",
        "1\n",
        "```"
      ]
    },
    {
      "cell_type": "markdown",
      "metadata": {
        "id": "y6HCf0OXFw5Z",
        "colab_type": "text"
      },
      "source": [
        "**Explanation**\n",
        "\n",
        "If we represent _ as sea level, a step up as /, and a step down as \\, Gary's hike can be drawn as:"
      ]
    },
    {
      "cell_type": "markdown",
      "metadata": {
        "id": "JQmNBiFoF7DC",
        "colab_type": "text"
      },
      "source": [
        "```\n",
        "_/\\      _\n",
        "   \\    /\n",
        "    \\/\\/\n",
        "```"
      ]
    },
    {
      "cell_type": "markdown",
      "metadata": {
        "id": "3KbnWYzwGEKS",
        "colab_type": "text"
      },
      "source": [
        "He enters and leaves one valley."
      ]
    },
    {
      "cell_type": "code",
      "metadata": {
        "id": "WRfiSvdwB210",
        "colab_type": "code",
        "colab": {}
      },
      "source": [
        "def countingValleys(n, s):\n",
        "  # start of solution\n",
        "    level = 0\n",
        "    valley = 0\n",
        "    for steps in s:\n",
        "        if steps == 'U':\n",
        "            level += 1\n",
        "            if level == 0:\n",
        "                # exit valley\n",
        "                valley += 1\n",
        "        else:\n",
        "            level -= 1\n",
        "    return valley\n",
        "  # end of solution"
      ],
      "execution_count": 0,
      "outputs": []
    },
    {
      "cell_type": "code",
      "metadata": {
        "id": "F-D1KdbIHPS5",
        "colab_type": "code",
        "colab": {
          "base_uri": "https://localhost:8080/",
          "height": 34
        },
        "outputId": "112d4258-8d61-4556-d37f-9c5ca6318abe"
      },
      "source": [
        "n = len('UDDDUDUU')\n",
        "s = 'UDDDUDUU'\n",
        "\n",
        "print(countingValleys(n, s))"
      ],
      "execution_count": 7,
      "outputs": [
        {
          "output_type": "stream",
          "text": [
            "1\n"
          ],
          "name": "stdout"
        }
      ]
    },
    {
      "cell_type": "code",
      "metadata": {
        "id": "YbFtCAPgIBXJ",
        "colab_type": "code",
        "colab": {
          "base_uri": "https://localhost:8080/",
          "height": 34
        },
        "outputId": "80e2e3ed-a211-4f10-de79-067e6a6518ef"
      },
      "source": [
        "n = len('DDUUDDUDUUUD')\n",
        "s = 'DDUUDDUDUUUD'\n",
        "\n",
        "print(countingValleys(n, s))"
      ],
      "execution_count": 8,
      "outputs": [
        {
          "output_type": "stream",
          "text": [
            "2\n"
          ],
          "name": "stdout"
        }
      ]
    }
  ]
}