{
  "nbformat": 4,
  "nbformat_minor": 0,
  "metadata": {
    "colab": {
      "name": "sock_merchant.ipynb",
      "provenance": [],
      "collapsed_sections": [],
      "authorship_tag": "ABX9TyPK196eXEM0qTFxrGqE9+lz"
    },
    "kernelspec": {
      "name": "python3",
      "display_name": "Python 3"
    }
  },
  "cells": [
    {
      "cell_type": "markdown",
      "metadata": {
        "id": "nXoySDVeOuY0",
        "colab_type": "text"
      },
      "source": [
        "## **Sock Merchant** - HackerRank\n",
        "\n",
        "John works at a clothing store. He has a large pile of socks that he must pair by color for sale. Given an array of integers representing the color of each sock, determine how many pairs of socks with matching colors there are.\n",
        "\n",
        "For example, there are $n = 7$ socks with colors $ar = [1,2,1,2,1,3,2]$. . There is one pair of color $1$ and one of color $2$. There are three odd socks left, one of each color. The number of pairs is $2$.\n",
        "\n",
        "**Function Description**\n",
        "\n",
        "Complete the sockMerchant function in the editor below. It must return an integer representing the number of matching pairs of socks that are available.\n",
        "\n",
        "sockMerchant has the following parameter(s):\n",
        "\n",
        "* n: the number of socks in the pile\n",
        "* ar: the colors of each sock\n",
        "\n",
        "**Input Format**\n",
        "\n",
        "The first line contains an integer $n$, the number of socks represented in $ar$.\n",
        "The second line contains $n$ space-separated integers describing the colors $ar[i]$ of the socks in the pile.\n",
        "\n",
        "**Constraints**\n",
        "\n",
        "* $1 \\leq n \\leq 100$\n",
        "* $1 \\leq ar[i] \\leq 100$ $where$ $0 \\leq i < n$\n",
        "\n",
        "**Output Format**\n",
        "\n",
        "Return the total number of matching pairs of socks that John can sell.\n",
        "\n",
        "**Sample Input**"
      ]
    },
    {
      "cell_type": "markdown",
      "metadata": {
        "id": "2Ru2nxwlREmf",
        "colab_type": "text"
      },
      "source": [
        "```\n",
        "9\n",
        "10 20 20 10 10 30 50 10 20\n",
        "```"
      ]
    },
    {
      "cell_type": "markdown",
      "metadata": {
        "id": "B5qXNtwGRNWJ",
        "colab_type": "text"
      },
      "source": [
        "**Sample Output**"
      ]
    },
    {
      "cell_type": "markdown",
      "metadata": {
        "id": "UqVuvAdSRRXP",
        "colab_type": "text"
      },
      "source": [
        "```\n",
        "3\n",
        "```"
      ]
    },
    {
      "cell_type": "markdown",
      "metadata": {
        "id": "D2N189vMSiRe",
        "colab_type": "text"
      },
      "source": [
        "John can match three pairs of socks.\n"
      ]
    },
    {
      "cell_type": "code",
      "metadata": {
        "id": "DvAk46YiJzPB",
        "colab_type": "code",
        "colab": {}
      },
      "source": [
        "import math\n",
        "import os\n",
        "import random\n",
        "import re\n",
        "import sys\n",
        "\n",
        "def sockMerchant(n, ar):\n",
        "    # start of solution\n",
        "\n",
        "    # create two dictionaries, one for even pairs and one for odd pairs\n",
        "    odd_pairs = {}\n",
        "    even_pairs = {}\n",
        "    pairs = 0\n",
        "\n",
        "    for sock in ar:\n",
        "        if sock in odd_pairs:\n",
        "            # whenever an odd pair is matched with its pair, it's removed from\n",
        "            # the odd pair and moved to the even pair\n",
        "            if sock in even_pairs:\n",
        "                even_pairs[sock] += 1\n",
        "            else:\n",
        "                # first time color is found. add to even pair\n",
        "                even_pairs[sock] = 1\n",
        "            del odd_pairs[sock]\n",
        "        else:\n",
        "            odd_pairs[sock] = True\n",
        "    # add # of pairs togethers\n",
        "    for value in even_pairs.values():\n",
        "        pairs += value\n",
        "    return pairs\n",
        "  # end of solution"
      ],
      "execution_count": 0,
      "outputs": []
    },
    {
      "cell_type": "code",
      "metadata": {
        "id": "J4L20tgjUc8C",
        "colab_type": "code",
        "colab": {
          "base_uri": "https://localhost:8080/",
          "height": 34
        },
        "outputId": "c8e862ff-cd34-417c-fe3d-a524213fd3d4"
      },
      "source": [
        "n = len([[10, 20, 20, 10, 10, 30, 50, 10, 20]])\n",
        "ar = [10, 20, 20, 10, 10, 30, 50, 10, 20]\n",
        "\n",
        "print(sockMerchant(n, ar))\n"
      ],
      "execution_count": 3,
      "outputs": [
        {
          "output_type": "stream",
          "text": [
            "3\n"
          ],
          "name": "stdout"
        }
      ]
    }
  ]
}